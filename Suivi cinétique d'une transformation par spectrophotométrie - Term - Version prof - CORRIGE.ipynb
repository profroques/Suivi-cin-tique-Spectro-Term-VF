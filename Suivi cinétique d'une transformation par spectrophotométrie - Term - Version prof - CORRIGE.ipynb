{
 "cells": [
  {
   "cell_type": "markdown",
   "metadata": {},
   "source": [
    "<div class=\"panel panel-primary\">\n",
    "    <div class=\"panel-heading\"><h2>Préambule :</h2></div>\n",
    "      <div class=\"panel-body\">\n",
    "Dans cette interface, vous allez découvrir des blocs de code qui composent un programme informatique complet.\n",
    "\n",
    "Afin de vous permettre de vous initier au codage et de vous faire participer à compléter ce programme informatique, le programme sera fragmenté par blocs. \n",
    "\n",
    "Ainsi, vous serez sollicité.e.s pour deux types d'action. <br>\n",
    "- un travail pour <i>exécuter</i> un bloc de programme informatique ;<br>\n",
    "- un travail pour <i>compléter</i> un bloc de programme informatique.<br>\n",
    "<br>\n",
    "Avant de commencer à découvrir le contenu du programme informatique proposé, je vous invite à prendre connaissance des différents types de consignes et des codes couleurs associés que vous allez rencontrer.\n",
    "      </div>\n",
    "</div>"
   ]
  },
  {
   "cell_type": "markdown",
   "metadata": {},
   "source": [
    "<div class=\"alert alert-info\" role=\"alert\">\n",
    "<b>Informations pour exécuter un bloc de programme informatique : </b> <br>\n",
    "<br><i>Avant</i> les blocs de programme qu'il faut simplément \"exécuter\", vous trouverez :<br>\n",
    "la consigne de travail sur un fond bleu avec une écriture en bleu foncé comme pour cette consigne.<br>\n",
    "\n",
    "Pour Exécuter le code dans un bloc de programme, il faut le sélectionner en cliquant sur la cellule du bloc, puis cliquer sur le bouton Run (ou Exécuter) <b>en haut de la page</b> ou bien en cliquant sur la flèche à côté de In (ou Entrée) si vous êtes sur tablettes ou smartphones.\n",
    "</div>"
   ]
  },
  {
   "cell_type": "markdown",
   "metadata": {},
   "source": [
    "![](bouton_executer.gif)"
   ]
  },
  {
   "cell_type": "markdown",
   "metadata": {},
   "source": [
    "<div class=\"alert alert-warning\">\n",
    "<b>Informations pour compléter un bloc de programme informatique: </b> <br>\n",
    "Certains blocs de codes doivent être complétés <span style='border:1px outset black'>avant</span> d'être exécutés afin de fonctionner convenablement.<br>\n",
    "<br><i>Avant</i> les blocs de programme qu'il faut \"compléter\", vous trouverez :<br>\n",
    "- la consigne de travail sur un fond jaune avec une écriture en brun - comme pour cette consigne.<br>\n",
    "\n",
    "Dans le bloc de programme à compléter vous remplacerez la mention \"-----A COMPLETER-----\" par le code adapté.<br>\n",
    "Dans certains cas, il est possible d'avoir des aides et/ou la solution.\n",
    "<br><b>ATTENTION : Une fois le programme complété, il faut alors exécuter le bloc de code correspondant.</b>\n",
    "</div>"
   ]
  },
  {
   "cell_type": "markdown",
   "metadata": {},
   "source": [
    "<h1> INTERFACE - Suivi cinétique d'une transformation par spectrophotométrie - Term</h1>"
   ]
  },
  {
   "cell_type": "markdown",
   "metadata": {},
   "source": [
    "<div class=\"panel panel-default\">\n",
    "      <div class=\"panel-heading\"><h2>Suivi cinétique d'une transformation par spectrophotométrie - Term\"</h2></div>\n",
    "       <div class=\"panel-body\">Tout d'abord, un rappel : pour exploiter le programme suivant, vous aurez besoin de votre tableau de mesures des différentes valeurs d'absorbances A en fonction du temps t. </div>\n",
    "<div class=\"panel-body\">           \n",
    "Dans cette interface, vous allez découvrir des blocs de code qui composent un programme informatique complet permet d'exploiter des mesures pour le suivi cinétique d'une transformation. Ce programme a pour but :</div>\n",
    "<div class=\"panel-body\">     \n",
    "1] de demander à l'opératrice ou à l'opérateur de saisir les valeurs d'Absorbance pour différentes dates t\n",
    "    </div>\n",
    "<div class=\"panel-body\">     \n",
    "1] de compléter des bouts de programme pour tracer C(I2) en fonction du temps, la concentrations des ions peroxodisulfate au cours du temps, la vitesse volumique d'apparition du diiode au cours du temps, la vitesse volumique de disparition des ions peroxodisulfate en fonction du temps, la vitesse volumique d'apparation du diiode en fonction de sa concentration et de modéliser ce dernier graphique de façon linéaire.\n",
    "    </div>\n",
    "<div class=\"panel-body\"> \n",
    "L'intégralité du programme (à compléter) est disponible dans l'énoncé du TP.          \n",
    "Afin de vous permettre de vous initier au codage et de vous faire participer pour compléter ce programme informatique, le programme sera fragmenté par bloc selon les modalités et consignes d'usages rappelées au début de cette page. \n",
    "    <br>\n",
    "    <br>\n",
    "    Si vous n'avez pas des valeurs concluantes, voici celles du corrigé qui peuvent vous sauvez la mise ;)\n",
    "    <br>\n",
    "    <br>\n",
    "    t = [0,30,60,90,120,150,180,210,240,270,300,330,360,390,420,450,480,510,540,570,600,630,660,690,720,750,780,810,840,870,900,930,960] <br><br>\n",
    "A = [0.00311,0.0831,0.128,0.176,0.216,0.259,0.298,0.341,0.374,0.404,0.449,0.473,0.507,0.529,0.559,0.584,0.609,0.630,0.645,0.666,0.688,0.690,0.721,0.744,0.761,0.766,0.790,0.803,0.801,0.827,0.834,0.843,0.842]\n",
    "    <br><br> Lors de l'exploitation de la loi de Beer-Lambert pour les solutions étudiées, on a trouvé : A = 773x[I2]\n",
    "    </div>\n"
   ]
  },
  {
   "cell_type": "markdown",
   "metadata": {},
   "source": [
    "<div class=\"alert alert-warning\">\n",
    "<b>TRAVAIL À FAIRE POUR COMPLÉTER LE BLOC SUIVANT </b> <br>\n",
    "<br>\n",
    "Le bloc de programme suivant comment par importer une \"librairie\" comportant les noms des commandes permettant de tracer des graphiques avec le langage de programmation python.\n",
    "    \n",
    "<br>\n",
    "<br>\n",
    "Dans le bloc de programme suivant, vous remplacerez la première mention \"-----A COMPLETER-----\" par les valeurs de t saisies de manière croissante et exprimées en secondes. ATTENTION : chaque valeur sera séparée des autres par une virgule ,\n",
    "<br>\n",
    "Ne pas enlever les crochets autour des valeurs saisies !\n",
    "\n",
    "<br>\n",
    "<br>\n",
    "Toujours le bloc de programme suivant, vous remplacerez la deuxième mention \"-----A COMPLETER-----\" par les valeurs de A saisies de manière croissante. ATTENTION : chaque valeur sera séparée des autres par une virgule ,\n",
    "ATTENTION : Pour une décimale, il faut utiliser le point \".\" et non une virgule.\n",
    "En langage informatique, on dit que vous avez créé deux listes.\n",
    "<br>\n",
    "<br>\n",
    "Ne pas enlever les crochets autour des valeurs saisies !\n",
    "<br>\n",
    "<br>\n",
    "<b>ATTENTION : Une fois le programme complété, il faut alors exécuter le bloc de code correspondant.</b>\n",
    "</div>"
   ]
  },
  {
   "cell_type": "markdown",
   "metadata": {},
   "source": [
    "<details>\n",
    "<summary>Aide</summary>\n",
    "<p>Vous devez compléter la ligne n°6 en remplaçant la mention \"---A COMPLETER----\" par chaque valeur de t séparée par une virgule ,</p>\n",
    "<p>Vous devez compléter la ligne n°7 en remplaçant la mention \"---A COMPLETER----\" par chaque valeur de A séparée par une virgule ,</p>\n",
    "<p>Pour un nombre décimal, utiliser le point . en guise de virgule</p>\n",
    "\n",
    "</details>"
   ]
  },
  {
   "cell_type": "code",
   "execution_count": null,
   "metadata": {
    "scrolled": true
   },
   "outputs": [],
   "source": [
    "import matplotlib.pyplot as plt\n",
    "\n",
    "\n",
    "# Valeurs expérimentales de A et t\n",
    "\n",
    "t = [0,30,60,90,120,150,180,210,240,270,300,330,360,390,420,450,480,510,540,570,600,630,660,690,720,750,780,810,840,870,900,930,960]\n",
    "\n",
    "A = [0.00311,0.0831,0.128,0.176,0.216,0.259,0.298,0.341,0.374,0.404,0.449,0.473,0.507,0.529,0.559,0.584,0.609,0.630,0.645,0.666,0.688,0.690,0.721,0.744,0.761,0.766,0.790,0.803,0.801,0.827,0.834,0.843,0.842]\n",
    "\n",
    "\n"
   ]
  },
  {
   "cell_type": "markdown",
   "metadata": {},
   "source": [
    "<div class=\"alert alert-warning\">\n",
    "<b>TRAVAIL À FAIRE POUR COMPLÉTER LE BLOC SUIVANT </b> <br>\n",
    "<br>\n",
    "Le bloc de programme suivant permet de calculer la concentration de diiode notée CI2 en fonction d'une variable i qui correspond à chaque valeur prise par l'absorbance A au cours de l'expérience.\n",
    "    \n",
    "<br>\n",
    "<br>\n",
    "Lors du TP, vous avez tracé la loi de Beer-Lambert pour les solutions étudiées. Vous aviez trouvé le coefficient directeur entre A et C.\n",
    "<br>\n",
    "<br>\n",
    "Remplacez alors la mention \"-----A COMPLETER-----\" par un valeur adaptée.\n",
    "\n",
    "<br>\n",
    "<br>\n",
    "\n",
    "<br>\n",
    "<b>ATTENTION : Une fois le programme complété, il faut alors exécuter le bloc de code correspondant.</b>\n",
    "</div>"
   ]
  },
  {
   "cell_type": "markdown",
   "metadata": {},
   "source": [
    "<details>\n",
    "<summary>Aide</summary>\n",
    "<p>Vous devez compléter la ligne n°5 en remplaçant la mention \"---A COMPLETER----\" par la valeur du coefficient directeur entre A et C que vous avez trouvé à l'aide de l'exploitation de Latispro.</p>\n",
    "</details>\n",
    "\n",
    "<details>\n",
    "<summary>Solution</summary>\n",
    "<p>Si, par exemple, A = 818*C alors le coefficient directeur vaut 818 ; on modifie alors la mention ---A COMPLETER---- de la ligne n°5 de la manière suivante : <br></p>\n",
    "\n",
    "<p>\n",
    "<br>CI2.append(A[I]/818)</p>\n",
    "</details>"
   ]
  },
  {
   "cell_type": "code",
   "execution_count": null,
   "metadata": {},
   "outputs": [],
   "source": [
    "# Calcul de [I2] (notée CI2) à partir des valeurs de A\n",
    "CI2 = []\n",
    "for i in range (0,len(A)) : \n",
    "    CI2.append(A[i]/773)\n"
   ]
  },
  {
   "cell_type": "markdown",
   "metadata": {},
   "source": [
    "<div class=\"alert alert-info\" role=\"alert\">\n",
    "<b>Travail à faire pour exécuter le bloc de programme suivant : </b> <br>\n",
    "    Le bloc suivant permet de tracer l'évolution de la concentration de diiode en fonction du temps t <br>\n",
    "\n",
    "Exécuter le code suivant.<br>\n",
    "Pour Exécuter le code dans la cellule ci-dessus, le sélectionner-le en cliquant sur la cellule, puis cliquer sur le bouton Run (ou Exécuter) en haut de la page ou bien en cliquant sur la flèche à côté de In (ou Entrée) si vous êtes sur tablettes ou smartphones.\n",
    "<br><b>Si vous avez réussi, vous verrez graphique apparaitre :) Assurez vous que l'évolution de la concentration est cohérente avec l'expérience réalisée</b>\n",
    "</div>"
   ]
  },
  {
   "cell_type": "code",
   "execution_count": null,
   "metadata": {
    "scrolled": true
   },
   "outputs": [],
   "source": [
    "# Tracé du graphe [I2](t)\n",
    "\n",
    "plt.plot(t,CI2,\"g+\")\n",
    "plt.xlabel(\"temps (s)\", fontsize = 12)\n",
    "plt.ylabel(\"[I2] (mol.L-1)\", fontsize = 12)\n",
    "plt.title(\"[I2] en fonction du temps\", fontsize = 14)\n",
    "\n",
    "plt.show()"
   ]
  },
  {
   "cell_type": "markdown",
   "metadata": {},
   "source": [
    "<div class=\"alert alert-warning\">\n",
    "<b>TRAVAIL À FAIRE POUR COMPLÉTER LE BLOC SUIVANT </b> <br>\n",
    "<br>\n",
    "Le bloc de programme suivant permet de calculer la concentration S2O82- à chaque date t puis de tracer cette concentration en fonction du temps.\n",
    "    \n",
    "<br>\n",
    "<br>\n",
    "\n",
    "<br>\n",
    "<br>\n",
    "Remplacez alors la mention \"-----A COMPLETER-----\" par une expression adaptée.\n",
    "\n",
    "<br>\n",
    "<br>\n",
    "\n",
    "<br>\n",
    "<b>ATTENTION : Une fois le programme complété, il faut alors exécuter le bloc de code correspondant. Et vérifier que l'évolution de la courbe est cohérente avec l'expérience ;)</b>\n",
    "</div>"
   ]
  },
  {
   "cell_type": "markdown",
   "metadata": {},
   "source": [
    "<details>\n",
    "<summary>Aide</summary>\n",
    "<p>Vous devez compléter la ligne n°6 en remplaçant la mention \"---A COMPLETER----\" par l'expression de la concentration des ions peroxodisulfate en fonction de sa concentration initiale C0S et de la concentration de diiode CI2 formé.</p>\n",
    "</details>\n",
    "\n",
    "<details>\n",
    "<summary>Solution</summary>\n",
    "<p>D'après l'équation de la réaction on a [S2O8^2-] = [S2O8^2-]inital - [I2]formé  ; on modifie alors la mention ---A COMPLETER---- de la ligne n°6 de la manière suivante : <br></p>\n",
    "\n",
    "<p>\n",
    "<br>CS.append(C0S-CI2[i])</p>\n",
    "</details>"
   ]
  },
  {
   "cell_type": "code",
   "execution_count": null,
   "metadata": {},
   "outputs": [],
   "source": [
    "# Tracé du graphe [S2O82-](t)\n",
    "\n",
    "C0S = 0.00125\n",
    "CS = []\n",
    "for i in range (0,len(CI2)) : \n",
    "    CS.append(C0S-CI2[i])\n",
    "\n",
    "plt.plot(t,CS,\"r+\")\n",
    "plt.xlabel(\"temps (s)\", fontsize = 12)\n",
    "plt.ylabel(\"[S2O82-] (mol.L-1)\", fontsize = 12)\n",
    "plt.title(\"[S2O82-] en fonction du temps\", fontsize = 14)\n",
    "\n",
    "plt.show()\n",
    "\n",
    "\n"
   ]
  },
  {
   "cell_type": "markdown",
   "metadata": {},
   "source": [
    "<div class=\"alert alert-info\" role=\"alert\">\n",
    "<b>Travail à faire pour exécuter le bloc de programme suivant : </b> <br>\n",
    "    Le bloc suivant permet de tracer l'évolution de la vitesse de formation du diiode en fonction du temps t <br>\n",
    "\n",
    "Exécuter le code suivant.<br>\n",
    "Pour Exécuter le code dans la cellule ci-dessus, le sélectionner-le en cliquant sur la cellule, puis cliquer sur le bouton Run (ou Exécuter) en haut de la page ou bien en cliquant sur la flèche à côté de In (ou Entrée) si vous êtes sur tablettes ou smartphones.\n",
    "<br><b>Si vous avez réussi, vous verrez graphique apparaitre :) Assurez vous que l'évolution de ce graphique est cohérente avec l'expérience réalisée</b>\n",
    "</div>"
   ]
  },
  {
   "cell_type": "code",
   "execution_count": null,
   "metadata": {
    "scrolled": true
   },
   "outputs": [],
   "source": [
    "# Tracé du graphe VI2(t)\n",
    "\n",
    "VI2 = []\n",
    "for i in range(1, len(CI2)-1) :\n",
    "    VI2.append((CI2[i+1]-CI2[i-1])/(t[i+1]-t[i-1]))\n",
    "\n",
    "plt.plot(t[1:-1],VI2,\"ro\")\n",
    "plt.xlabel(\"temps (s)\", fontsize = 12)\n",
    "plt.ylabel(\"vitesse volumique d'apparition du diiode (mol.L-1.s-1)\", fontsize = 12)\n",
    "plt.title(\"Vitesse volumique d'apparition du diiode en fonction du temps\", fontsize = 14)\n",
    "\n",
    "plt.show()\n",
    "\n",
    "\n"
   ]
  },
  {
   "cell_type": "markdown",
   "metadata": {},
   "source": [
    "<div class=\"alert alert-info\" role=\"alert\">\n",
    "<b>Travail à faire pour exécuter le bloc de programme suivant : </b> <br>\n",
    "    Le bloc suivant permet de tracer l'évolution de la vitesse de disparition des ions peroxodisulfate en fonction du temps t <br>\n",
    "\n",
    "Exécuter le code suivant.<br>\n",
    "Pour Exécuter le code dans la cellule ci-dessus, le sélectionner-le en cliquant sur la cellule, puis cliquer sur le bouton Run (ou Exécuter) en haut de la page ou bien en cliquant sur la flèche à côté de In (ou Entrée) si vous êtes sur tablettes ou smartphones.\n",
    "<br><b>Si vous avez réussi, vous verrez graphique apparaitre :) Assurez vous que l'évolution de ce graphique est cohérente avec l'expérience réalisée</b>\n",
    "</div>"
   ]
  },
  {
   "cell_type": "code",
   "execution_count": null,
   "metadata": {
    "scrolled": true
   },
   "outputs": [],
   "source": [
    "# Tracé du graphe VS2O82-(t)\n",
    "\n",
    "VS = []\n",
    "for i in range(1, len(CS)-1) :\n",
    "    VS.append(-(CS[i+1]-CS[i-1])/(t[i+1]-t[i-1]))\n",
    "\n",
    "plt.plot(t[1:-1],VS,\"ro\")\n",
    "plt.xlabel(\"temps (s)\", fontsize = 12)\n",
    "plt.ylabel(\"vitesse volumique de disparition du S2O82- (mol.L-1.s-1)\", fontsize = 12)\n",
    "plt.title(\"Vitesse volumique de disparition du S2O82- en fonction du temps\", fontsize = 14)\n",
    "\n",
    "plt.show()\n",
    "\n"
   ]
  },
  {
   "cell_type": "markdown",
   "metadata": {},
   "source": [
    "<div class=\"alert alert-info\" role=\"alert\">\n",
    "<b>Travail à faire pour exécuter le bloc de programme suivant : </b> <br>\n",
    "    Le bloc suivant permet de tracer l'évolution de la vitesse  de disparition de S2O82- en fontion de [S2O82-]<br>\n",
    "\n",
    "Exécuter le code suivant.<br>\n",
    "Pour Exécuter le code dans la cellule ci-dessus, le sélectionner-le en cliquant sur la cellule, puis cliquer sur le bouton Run (ou Exécuter) en haut de la page ou bien en cliquant sur la flèche à côté de In (ou Entrée) si vous êtes sur tablettes ou smartphones.\n",
    "<br><b>Si vous avez réussi, vous verrez graphique apparaitre :) Assurez vous que l'évolution de ce graphique est cohérente avec l'expérience réalisée</b>\n",
    "</div>"
   ]
  },
  {
   "cell_type": "code",
   "execution_count": null,
   "metadata": {},
   "outputs": [],
   "source": [
    "#Tracé de Vitesse volumique de disparition de S2O82- en fontion de [S2O82-]\n",
    "\n",
    "plt.plot(CS[1:-1],VS,\"ro\")\n",
    "plt.xlabel(\"[S2O82-] (mol.L-1)\", fontsize = 12)\n",
    "plt.ylabel(\"vitesse volumique d'apparition (mol.L-1.s-1)\", fontsize = 12)\n",
    "plt.title(\"Vitesse volumique d'apparition en fonction de la concentration en S2O82-\", fontsize = 14)\n",
    "\n",
    "plt.show()\n",
    "\n",
    "\n"
   ]
  },
  {
   "cell_type": "markdown",
   "metadata": {},
   "source": [
    "<div class=\"alert alert-info\" role=\"alert\">\n",
    "<b>Travail à faire pour exécuter le bloc de programme suivant : </b> <br>\n",
    "    Le bloc suivant permet de modéliser la courbe de la vitesse  de disparition de S2O82- en fontion de [S2O82-] par une fonction linéaire<br>\n",
    "\n",
    "Exécuter le code suivant.<br>\n",
    "Pour Exécuter le code dans la cellule ci-dessus, le sélectionner-le en cliquant sur la cellule, puis cliquer sur le bouton Run (ou Exécuter) en haut de la page ou bien en cliquant sur la flèche à côté de In (ou Entrée) si vous êtes sur tablettes ou smartphones.\n",
    "<br><b>Si vous avez réussi, vous verrez graphique apparaitre :) Assurez vous que l'évolution de ce graphique est cohérente avec l'expérience réalisée</b>\n",
    "</div>"
   ]
  },
  {
   "cell_type": "code",
   "execution_count": null,
   "metadata": {},
   "outputs": [],
   "source": [
    "# Modélisation de la courbe VS([S2O82-]) par une fonction linéaire\n",
    "\n",
    "import numpy as np\n",
    "model = np.polyfit(CS[1:-1],VS,1)\n",
    "\n",
    "\n",
    "a = model[0]\n",
    "VSmodel = []\n",
    "for i in range (0, len(CS)) : \n",
    "    VSmodel.append(a*CS[i])\n",
    "\n",
    "\n",
    "plt.plot(CS[1:-1],VS,\"ro\", label = \"Points expérimentaux\")\n",
    "plt.plot(CS, VSmodel, \"g--\", label = \"Modélisation\")\n",
    "plt.xlabel(\"[S2O82-] (mol.L-1)\", fontsize = 12)\n",
    "plt.ylabel(\"vitesse volumique de disparition du S2O82- (mol.L-1.s-1)\", fontsize = 12)\n",
    "plt.title(\"Vitesse volumique de disparition du S2O82- en fonction de la concentration en S2O82-\", fontsize = 14)\n",
    "plt.legend()\n",
    "\n",
    "plt.show()"
   ]
  },
  {
   "cell_type": "code",
   "execution_count": null,
   "metadata": {},
   "outputs": [],
   "source": []
  }
 ],
 "metadata": {
  "kernelspec": {
   "display_name": "Python 3",
   "language": "python",
   "name": "python3"
  },
  "language_info": {
   "codemirror_mode": {
    "name": "ipython",
    "version": 3
   },
   "file_extension": ".py",
   "mimetype": "text/x-python",
   "name": "python",
   "nbconvert_exporter": "python",
   "pygments_lexer": "ipython3",
   "version": "3.7.4"
  }
 },
 "nbformat": 4,
 "nbformat_minor": 2
}
